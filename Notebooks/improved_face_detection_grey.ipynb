{
  "cells": [
    {
      "cell_type": "markdown",
      "source": [
        "# Face Detection and Emotion Recognition\n",
        "\n",
        "\n",
        "\n",
        "\n"
      ],
      "metadata": {
        "id": "hwikvGPYu2oW"
      }
    },
    {
      "cell_type": "markdown",
      "source": [
        "## Import Libraries and Data"
      ],
      "metadata": {
        "id": "o8LpXPZAvO9y"
      }
    },
    {
      "cell_type": "code",
      "source": [
        "import struct\n",
        "import numpy as np\n",
        "from keras.layers import Conv2D\n",
        "from keras.layers import Input\n",
        "from keras.layers import BatchNormalization\n",
        "from keras.layers import LeakyReLU\n",
        "from keras.layers import ZeroPadding2D\n",
        "from keras.layers import UpSampling2D\n",
        "from keras.layers.merge import add, concatenate\n",
        "from keras.models import Model\n",
        "from tensorflow.keras.utils import to_categorical"
      ],
      "metadata": {
        "id": "-W9A-r6RelgP"
      },
      "execution_count": null,
      "outputs": []
    },
    {
      "cell_type": "code",
      "source": [
        "### CNN models ###\n",
        "import keras\n",
        "from keras.preprocessing.image import ImageDataGenerator, array_to_img, img_to_array, load_img\n",
        "from keras.callbacks import TensorBoard\n",
        "from keras.models import Sequential\n",
        "from keras.layers.core import Dense, Dropout, Activation, Flatten\n",
        "from keras.layers.convolutional import Conv2D, MaxPooling2D, SeparableConv2D\n",
        "from keras.utils import np_utils\n",
        "from keras.regularizers import l2#, activity_l2\n",
        "from tensorflow.keras.optimizers import SGD, RMSprop\n",
        "from tensorflow.keras.utils import to_categorical\n",
        "from tensorflow.keras.layers import BatchNormalization\n",
        "from keras import models\n",
        "from keras.utils.vis_utils import plot_model\n",
        "from keras.layers import Input, GlobalAveragePooling2D\n",
        "from keras.models import Model\n",
        "from tensorflow.keras import layers"
      ],
      "metadata": {
        "id": "KTDuC9um4upk"
      },
      "execution_count": null,
      "outputs": []
    },
    {
      "cell_type": "code",
      "source": [
        "from google.colab import drive\n",
        "drive.mount('/content/drive')"
      ],
      "metadata": {
        "id": "v_x7KaF9hD6Y",
        "colab": {
          "base_uri": "https://localhost:8080/"
        },
        "outputId": "f2d38225-d291-4614-87a2-107d27ec4ad9"
      },
      "execution_count": null,
      "outputs": [
        {
          "output_type": "stream",
          "name": "stdout",
          "text": [
            "Mounted at /content/drive\n"
          ]
        }
      ]
    },
    {
      "cell_type": "code",
      "execution_count": null,
      "metadata": {
        "id": "CfyAjWdGeFV5"
      },
      "outputs": [],
      "source": [
        "from numpy import expand_dims, asarray\n",
        "from keras.models import load_model\n",
        "from keras.preprocessing.image import load_img\n",
        "from keras.preprocessing.image import img_to_array\n",
        "import cv2\n",
        "import numpy as np\n",
        "from tensorflow.keras import backend as K\n",
        "\n",
        "# define the expected input shape for the model\n",
        "input_w, input_h = 224,224"
      ]
    },
    {
      "cell_type": "code",
      "execution_count": null,
      "metadata": {
        "id": "J1r5RADHeFV8"
      },
      "outputs": [],
      "source": [
        "from scipy.ndimage import zoom\n",
        "from skimage.feature import hog\n",
        "import dlib\n",
        "import scipy\n",
        "import matplotlib.pyplot as plt"
      ]
    },
    {
      "cell_type": "code",
      "source": [
        "# Unzip training data from drive\n",
        "\n",
        "!unzip -q '/content/drive/MyDrive/FYP/val_set.zip' \n",
        "!unzip -q '/content/drive/MyDrive/FYP/trainset.zip' \n",
        "!unzip -q '/content/drive/MyDrive/FYP/train.zip'"
      ],
      "metadata": {
        "id": "FuyZmr3n2lhT"
      },
      "execution_count": null,
      "outputs": []
    },
    {
      "cell_type": "markdown",
      "source": [
        "## YoloV3 Model"
      ],
      "metadata": {
        "id": "hjjBvMYEvjN9"
      }
    },
    {
      "cell_type": "code",
      "source": [
        "def _conv_block(inp, convs, skip=True):\n",
        "    x = inp\n",
        "    count = 0\n",
        "    for conv in convs:\n",
        "        if count == (len(convs) - 2) and skip:\n",
        "            skip_connection = x\n",
        "        count += 1\n",
        "        if conv['stride'] > 1: x = ZeroPadding2D(((1,0),(1,0)))(x) # peculiar padding as darknet prefer left and top\n",
        "        x = Conv2D(conv['filter'],\n",
        "                   conv['kernel'],\n",
        "                   strides=conv['stride'],\n",
        "                   padding='valid' if conv['stride'] > 1 else 'same', # peculiar padding as darknet prefer left and top\n",
        "                   name='conv_' + str(conv['layer_idx']),\n",
        "                   use_bias=False if conv['bnorm'] else True)(x)\n",
        "        if conv['bnorm']: x = BatchNormalization(epsilon=0.001, name='bnorm_' + str(conv['layer_idx']))(x)\n",
        "        if conv['leaky']: x = LeakyReLU(alpha=0.1, name='leaky_' + str(conv['layer_idx']))(x)\n",
        "    return add([skip_connection, x]) if skip else x"
      ],
      "metadata": {
        "id": "fsoXKhgaewXL"
      },
      "execution_count": null,
      "outputs": []
    },
    {
      "cell_type": "code",
      "source": [
        "def make_yolov3_model():\n",
        "    input_image = Input(shape=(None, None, 3))\n",
        "    # Layer  0 => 4\n",
        "    x = _conv_block(input_image, [{'filter': 32, 'kernel': 3, 'stride': 1, 'bnorm': True, 'leaky': True, 'layer_idx': 0},\n",
        "                                  {'filter': 64, 'kernel': 3, 'stride': 2, 'bnorm': True, 'leaky': True, 'layer_idx': 1},\n",
        "                                  {'filter': 32, 'kernel': 1, 'stride': 1, 'bnorm': True, 'leaky': True, 'layer_idx': 2},\n",
        "                                  {'filter': 64, 'kernel': 3, 'stride': 1, 'bnorm': True, 'leaky': True, 'layer_idx': 3}])\n",
        "    # Layer  5 => 8\n",
        "    x = _conv_block(x, [{'filter': 128, 'kernel': 3, 'stride': 2, 'bnorm': True, 'leaky': True, 'layer_idx': 5},\n",
        "                        {'filter':  64, 'kernel': 1, 'stride': 1, 'bnorm': True, 'leaky': True, 'layer_idx': 6},\n",
        "                        {'filter': 128, 'kernel': 3, 'stride': 1, 'bnorm': True, 'leaky': True, 'layer_idx': 7}])\n",
        "    # Layer  9 => 11\n",
        "    x = _conv_block(x, [{'filter':  64, 'kernel': 1, 'stride': 1, 'bnorm': True, 'leaky': True, 'layer_idx': 9},\n",
        "                        {'filter': 128, 'kernel': 3, 'stride': 1, 'bnorm': True, 'leaky': True, 'layer_idx': 10}])\n",
        "    # Layer 12 => 15\n",
        "    x = _conv_block(x, [{'filter': 256, 'kernel': 3, 'stride': 2, 'bnorm': True, 'leaky': True, 'layer_idx': 12},\n",
        "                        {'filter': 128, 'kernel': 1, 'stride': 1, 'bnorm': True, 'leaky': True, 'layer_idx': 13},\n",
        "                        {'filter': 256, 'kernel': 3, 'stride': 1, 'bnorm': True, 'leaky': True, 'layer_idx': 14}])\n",
        "    # Layer 16 => 36\n",
        "    for i in range(7):\n",
        "        x = _conv_block(x, [{'filter': 128, 'kernel': 1, 'stride': 1, 'bnorm': True, 'leaky': True, 'layer_idx': 16+i*3},\n",
        "                            {'filter': 256, 'kernel': 3, 'stride': 1, 'bnorm': True, 'leaky': True, 'layer_idx': 17+i*3}])\n",
        "    skip_36 = x\n",
        "    # Layer 37 => 40\n",
        "    x = _conv_block(x, [{'filter': 512, 'kernel': 3, 'stride': 2, 'bnorm': True, 'leaky': True, 'layer_idx': 37},\n",
        "                        {'filter': 256, 'kernel': 1, 'stride': 1, 'bnorm': True, 'leaky': True, 'layer_idx': 38},\n",
        "                        {'filter': 512, 'kernel': 3, 'stride': 1, 'bnorm': True, 'leaky': True, 'layer_idx': 39}])\n",
        "    # Layer 41 => 61\n",
        "    for i in range(7):\n",
        "        x = _conv_block(x, [{'filter': 256, 'kernel': 1, 'stride': 1, 'bnorm': True, 'leaky': True, 'layer_idx': 41+i*3},\n",
        "                            {'filter': 512, 'kernel': 3, 'stride': 1, 'bnorm': True, 'leaky': True, 'layer_idx': 42+i*3}])\n",
        "    skip_61 = x\n",
        "    # Layer 62 => 65\n",
        "    x = _conv_block(x, [{'filter': 1024, 'kernel': 3, 'stride': 2, 'bnorm': True, 'leaky': True, 'layer_idx': 62},\n",
        "                        {'filter':  512, 'kernel': 1, 'stride': 1, 'bnorm': True, 'leaky': True, 'layer_idx': 63},\n",
        "                        {'filter': 1024, 'kernel': 3, 'stride': 1, 'bnorm': True, 'leaky': True, 'layer_idx': 64}])\n",
        "    # Layer 66 => 74\n",
        "    for i in range(3):\n",
        "        x = _conv_block(x, [{'filter':  512, 'kernel': 1, 'stride': 1, 'bnorm': True, 'leaky': True, 'layer_idx': 66+i*3},\n",
        "                            {'filter': 1024, 'kernel': 3, 'stride': 1, 'bnorm': True, 'leaky': True, 'layer_idx': 67+i*3}])\n",
        "    # Layer 75 => 79\n",
        "    x = _conv_block(x, [{'filter':  512, 'kernel': 1, 'stride': 1, 'bnorm': True, 'leaky': True, 'layer_idx': 75},\n",
        "                        {'filter': 1024, 'kernel': 3, 'stride': 1, 'bnorm': True, 'leaky': True, 'layer_idx': 76},\n",
        "                        {'filter':  512, 'kernel': 1, 'stride': 1, 'bnorm': True, 'leaky': True, 'layer_idx': 77},\n",
        "                        {'filter': 1024, 'kernel': 3, 'stride': 1, 'bnorm': True, 'leaky': True, 'layer_idx': 78},\n",
        "                        {'filter':  512, 'kernel': 1, 'stride': 1, 'bnorm': True, 'leaky': True, 'layer_idx': 79}], skip=False)\n",
        "    # Layer 80 => 82\n",
        "    yolo_82 = _conv_block(x, [{'filter': 1024, 'kernel': 3, 'stride': 1, 'bnorm': True,  'leaky': True,  'layer_idx': 80},\n",
        "                              {'filter':  18, 'kernel': 1, 'stride': 1, 'bnorm': False, 'leaky': False, 'layer_idx': 81}], skip=False)\n",
        "    # Layer 83 => 86\n",
        "    x = _conv_block(x, [{'filter': 256, 'kernel': 1, 'stride': 1, 'bnorm': True, 'leaky': True, 'layer_idx': 84}], skip=False)\n",
        "    x = UpSampling2D(2)(x)\n",
        "    x = concatenate([x, skip_61])\n",
        "    # Layer 87 => 91\n",
        "    x = _conv_block(x, [{'filter': 256, 'kernel': 1, 'stride': 1, 'bnorm': True, 'leaky': True, 'layer_idx': 87},\n",
        "                        {'filter': 512, 'kernel': 3, 'stride': 1, 'bnorm': True, 'leaky': True, 'layer_idx': 88},\n",
        "                        {'filter': 256, 'kernel': 1, 'stride': 1, 'bnorm': True, 'leaky': True, 'layer_idx': 89},\n",
        "                        {'filter': 512, 'kernel': 3, 'stride': 1, 'bnorm': True, 'leaky': True, 'layer_idx': 90},\n",
        "                        {'filter': 256, 'kernel': 1, 'stride': 1, 'bnorm': True, 'leaky': True, 'layer_idx': 91}], skip=False)\n",
        "    # Layer 92 => 94\n",
        "    yolo_94 = _conv_block(x, [{'filter': 512, 'kernel': 3, 'stride': 1, 'bnorm': True,  'leaky': True,  'layer_idx': 92},\n",
        "                              {'filter': 18, 'kernel': 1, 'stride': 1, 'bnorm': False, 'leaky': False, 'layer_idx': 93}], skip=False)\n",
        "    # Layer 95 => 98\n",
        "    x = _conv_block(x, [{'filter': 128, 'kernel': 1, 'stride': 1, 'bnorm': True, 'leaky': True,   'layer_idx': 96}], skip=False)\n",
        "    x = UpSampling2D(2)(x)\n",
        "    x = concatenate([x, skip_36])\n",
        "    # Layer 99 => 106\n",
        "    yolo_106 = _conv_block(x, [{'filter': 128, 'kernel': 1, 'stride': 1, 'bnorm': True,  'leaky': True,  'layer_idx': 99},\n",
        "                               {'filter': 256, 'kernel': 3, 'stride': 1, 'bnorm': True,  'leaky': True,  'layer_idx': 100},\n",
        "                               {'filter': 128, 'kernel': 1, 'stride': 1, 'bnorm': True,  'leaky': True,  'layer_idx': 101},\n",
        "                               {'filter': 256, 'kernel': 3, 'stride': 1, 'bnorm': True,  'leaky': True,  'layer_idx': 102},\n",
        "                               {'filter': 128, 'kernel': 1, 'stride': 1, 'bnorm': True,  'leaky': True,  'layer_idx': 103},\n",
        "                               {'filter': 256, 'kernel': 3, 'stride': 1, 'bnorm': True,  'leaky': True,  'layer_idx': 104},\n",
        "                               {'filter': 18, 'kernel': 1, 'stride': 1, 'bnorm': False, 'leaky': False, 'layer_idx': 105}], skip=False)\n",
        "    model = Model(input_image, [yolo_82, yolo_94, yolo_106])\n",
        "    return model"
      ],
      "metadata": {
        "id": "fbLkA8KeeyK6"
      },
      "execution_count": null,
      "outputs": []
    },
    {
      "cell_type": "code",
      "source": [
        "class WeightReader:\n",
        "    def __init__(self, weight_file):\n",
        "        with open(weight_file, 'rb') as w_f:\n",
        "            major,  = struct.unpack('i', w_f.read(4))\n",
        "            minor,  = struct.unpack('i', w_f.read(4))\n",
        "            revision, = struct.unpack('i', w_f.read(4))\n",
        "            if (major*10 + minor) >= 2 and major < 1000 and minor < 1000:\n",
        "                w_f.read(8)\n",
        "            else:\n",
        "                w_f.read(4)\n",
        "                transpose = (major > 1000) or (minor > 1000)\n",
        "            binary = w_f.read()\n",
        "        self.offset = 0\n",
        "        self.all_weights = np.frombuffer(binary, dtype='float32')\n",
        "        \n",
        "    def read_bytes(self, size):\n",
        "        self.offset = self.offset + size\n",
        "        return self.all_weights[self.offset-size:self.offset]\n",
        "    \n",
        "    def load_weights(self, model):\n",
        "        for i in range(106):\n",
        "            try:\n",
        "                conv_layer = model.get_layer('conv_' + str(i))\n",
        "                print(\"loading weights of convolution #\" + str(i))\n",
        "                if i not in [81, 93, 105]:\n",
        "                    norm_layer = model.get_layer('bnorm_' + str(i))\n",
        "                    size = np.prod(norm_layer.get_weights()[0].shape)\n",
        "                    beta  = self.read_bytes(size) # bias\n",
        "                    gamma = self.read_bytes(size) # scale\n",
        "                    mean  = self.read_bytes(size) # mean\n",
        "                    var   = self.read_bytes(size) # variance\n",
        "                    weights = norm_layer.set_weights([gamma, beta, mean, var])\n",
        "                if len(conv_layer.get_weights()) > 1:\n",
        "                    bias   = self.read_bytes(np.prod(conv_layer.get_weights()[1].shape))\n",
        "                    kernel = self.read_bytes(np.prod(conv_layer.get_weights()[0].shape))\n",
        "                    kernel = kernel.reshape(list(reversed(conv_layer.get_weights()[0].shape)))\n",
        "                    kernel = kernel.transpose([2,3,1,0])\n",
        "                    conv_layer.set_weights([kernel, bias])\n",
        "                else:\n",
        "                    kernel = self.read_bytes(np.prod(conv_layer.get_weights()[0].shape))\n",
        "                    kernel = kernel.reshape(list(reversed(conv_layer.get_weights()[0].shape)))\n",
        "                    kernel = kernel.transpose([2,3,1,0])\n",
        "                    conv_layer.set_weights([kernel])\n",
        "            except ValueError:\n",
        "                print(\"no convolution #\" + str(i))\n",
        "    \n",
        "    def reset(self):\n",
        "        self.offset = 0"
      ],
      "metadata": {
        "id": "W-jDC0UehodZ"
      },
      "execution_count": null,
      "outputs": []
    },
    {
      "cell_type": "code",
      "source": [
        "model = make_yolov3_model()"
      ],
      "metadata": {
        "id": "Uqv9iJLIe9GJ",
        "colab": {
          "base_uri": "https://localhost:8080/",
          "height": 287
        },
        "outputId": "a12984f2-3f40-4f13-b483-43668fb235b2"
      },
      "execution_count": null,
      "outputs": [
        {
          "output_type": "error",
          "ename": "NameError",
          "evalue": "ignored",
          "traceback": [
            "\u001b[0;31m---------------------------------------------------------------------------\u001b[0m",
            "\u001b[0;31mNameError\u001b[0m                                 Traceback (most recent call last)",
            "\u001b[0;32m<ipython-input-4-d09ab728c1f1>\u001b[0m in \u001b[0;36m<module>\u001b[0;34m()\u001b[0m\n\u001b[0;32m----> 1\u001b[0;31m \u001b[0mmodel\u001b[0m \u001b[0;34m=\u001b[0m \u001b[0mmake_yolov3_model\u001b[0m\u001b[0;34m(\u001b[0m\u001b[0;34m)\u001b[0m\u001b[0;34m\u001b[0m\u001b[0;34m\u001b[0m\u001b[0m\n\u001b[0m",
            "\u001b[0;32m<ipython-input-2-f91c3ab211c5>\u001b[0m in \u001b[0;36mmake_yolov3_model\u001b[0;34m()\u001b[0m\n\u001b[1;32m      1\u001b[0m \u001b[0;32mdef\u001b[0m \u001b[0mmake_yolov3_model\u001b[0m\u001b[0;34m(\u001b[0m\u001b[0;34m)\u001b[0m\u001b[0;34m:\u001b[0m\u001b[0;34m\u001b[0m\u001b[0;34m\u001b[0m\u001b[0m\n\u001b[0;32m----> 2\u001b[0;31m     \u001b[0minput_image\u001b[0m \u001b[0;34m=\u001b[0m \u001b[0mInput\u001b[0m\u001b[0;34m(\u001b[0m\u001b[0mshape\u001b[0m\u001b[0;34m=\u001b[0m\u001b[0;34m(\u001b[0m\u001b[0;32mNone\u001b[0m\u001b[0;34m,\u001b[0m \u001b[0;32mNone\u001b[0m\u001b[0;34m,\u001b[0m \u001b[0;36m3\u001b[0m\u001b[0;34m)\u001b[0m\u001b[0;34m)\u001b[0m\u001b[0;34m\u001b[0m\u001b[0;34m\u001b[0m\u001b[0m\n\u001b[0m\u001b[1;32m      3\u001b[0m     \u001b[0;31m# Layer  0 => 4\u001b[0m\u001b[0;34m\u001b[0m\u001b[0;34m\u001b[0m\u001b[0;34m\u001b[0m\u001b[0m\n\u001b[1;32m      4\u001b[0m     x = _conv_block(input_image, [{'filter': 32, 'kernel': 3, 'stride': 1, 'bnorm': True, 'leaky': True, 'layer_idx': 0},\n\u001b[1;32m      5\u001b[0m                                   \u001b[0;34m{\u001b[0m\u001b[0;34m'filter'\u001b[0m\u001b[0;34m:\u001b[0m \u001b[0;36m64\u001b[0m\u001b[0;34m,\u001b[0m \u001b[0;34m'kernel'\u001b[0m\u001b[0;34m:\u001b[0m \u001b[0;36m3\u001b[0m\u001b[0;34m,\u001b[0m \u001b[0;34m'stride'\u001b[0m\u001b[0;34m:\u001b[0m \u001b[0;36m2\u001b[0m\u001b[0;34m,\u001b[0m \u001b[0;34m'bnorm'\u001b[0m\u001b[0;34m:\u001b[0m \u001b[0;32mTrue\u001b[0m\u001b[0;34m,\u001b[0m \u001b[0;34m'leaky'\u001b[0m\u001b[0;34m:\u001b[0m \u001b[0;32mTrue\u001b[0m\u001b[0;34m,\u001b[0m \u001b[0;34m'layer_idx'\u001b[0m\u001b[0;34m:\u001b[0m \u001b[0;36m1\u001b[0m\u001b[0;34m}\u001b[0m\u001b[0;34m,\u001b[0m\u001b[0;34m\u001b[0m\u001b[0;34m\u001b[0m\u001b[0m\n",
            "\u001b[0;31mNameError\u001b[0m: name 'Input' is not defined"
          ]
        }
      ]
    },
    {
      "cell_type": "code",
      "source": [
        "weight_reader = WeightReader('/content/drive/MyDrive/FYP/yolov3-wider_16000.weights')\n",
        "weight_reader.load_weights(model)"
      ],
      "metadata": {
        "id": "OaPEuHmAfFvR"
      },
      "execution_count": null,
      "outputs": []
    },
    {
      "cell_type": "code",
      "source": [
        "model.save('/content/drive/MyDrive/FYP/model.h5')"
      ],
      "metadata": {
        "id": "95EoxxHQhxQq"
      },
      "execution_count": null,
      "outputs": []
    },
    {
      "cell_type": "markdown",
      "source": [
        "## Face Localization and Bounding box Helper functions"
      ],
      "metadata": {
        "id": "ydhF5ayLvwiQ"
      }
    },
    {
      "cell_type": "code",
      "source": [
        "model = load_model('/content/drive/MyDrive/FYP/model.h5')"
      ],
      "metadata": {
        "colab": {
          "base_uri": "https://localhost:8080/"
        },
        "id": "RjHTM8mSh1J2",
        "outputId": "5c11c839-f6b4-4a0b-8af1-88437eea20f1"
      },
      "execution_count": null,
      "outputs": [
        {
          "output_type": "stream",
          "name": "stdout",
          "text": [
            "WARNING:tensorflow:No training configuration found in the save file, so the model was *not* compiled. Compile it manually.\n"
          ]
        }
      ]
    },
    {
      "cell_type": "code",
      "execution_count": null,
      "metadata": {
        "id": "0ojFsbCbeFV9"
      },
      "outputs": [],
      "source": [
        "import numpy as np\n",
        "from numpy import expand_dims\n",
        "from keras.models import load_model\n",
        "from keras.preprocessing.image import load_img\n",
        "from keras.preprocessing.image import img_to_array\n",
        "from matplotlib import pyplot\n",
        "from matplotlib.patches import Rectangle\n",
        "\n",
        "class BoundBox:\n",
        "    def __init__(self, xmin, ymin, xmax, ymax, objness = None, classes = None):\n",
        "        self.xmin = xmin\n",
        "        self.ymin = ymin\n",
        "        self.xmax = xmax\n",
        "        self.ymax = ymax\n",
        "        self.objness = objness\n",
        "        self.classes = classes\n",
        "        self.label = -1\n",
        "        self.score = -1\n",
        "        \n",
        "    def get_label(self):\n",
        "        if self.label == -1:\n",
        "            self.label = np.argmax(self.classes)\n",
        "        \n",
        "        return self.label\n",
        "    \n",
        "    def get_score(self):\n",
        "        if self.score == -1:\n",
        "            self.score = self.classes[self.get_label()]\n",
        "        \n",
        "        return self.score\n",
        "\n",
        "\n",
        "def _sigmoid(x):\n",
        "    return 1. / (1. + np.exp(-x))"
      ]
    },
    {
      "cell_type": "code",
      "execution_count": null,
      "metadata": {
        "id": "S904LGqreFV-"
      },
      "outputs": [],
      "source": [
        "def decode_netout(netout, anchors, obj_thresh, net_h, net_w):\n",
        "    grid_h, grid_w = netout.shape[:2] # 0 and 1 is row and column 13*13\n",
        "    nb_box = 3 # 3 anchor boxes\n",
        "    netout = netout.reshape((grid_h, grid_w, nb_box, -1)) #13*13*3 ,-1\n",
        "    nb_class = netout.shape[-1] - 5\n",
        "    boxes = []\n",
        "    netout[..., :2]  = _sigmoid(netout[..., :2])\n",
        "    netout[..., 4:]  = _sigmoid(netout[..., 4:])\n",
        "    netout[..., 5:]  = netout[..., 4][..., np.newaxis] * netout[..., 5:]\n",
        "    netout[..., 5:] *= netout[..., 5:] > obj_thresh\n",
        "    \n",
        "    for i in range(grid_h*grid_w):\n",
        "        row = i / grid_w\n",
        "        col = i % grid_w\n",
        "        for b in range(nb_box):\n",
        "            # 4th element is objectness score\n",
        "            objectness = netout[int(row)][int(col)][b][4]\n",
        "            if(objectness.all() <= obj_thresh): continue\n",
        "            # first 4 elements are x, y, w, and h\n",
        "            x, y, w, h = netout[int(row)][int(col)][b][:4]\n",
        "            x = (col + x) / grid_w # center position, unit: image width\n",
        "            y = (row + y) / grid_h # center position, unit: image height\n",
        "            w = anchors[2 * b + 0] * np.exp(w) / net_w # unit: image width\n",
        "            h = anchors[2 * b + 1] * np.exp(h) / net_h # unit: image height\n",
        "            # last elements are class probabilities\n",
        "            classes = netout[int(row)][col][b][5:]\n",
        "            box = BoundBox(x-w/2, y-h/2, x+w/2, y+h/2, objectness, classes)\n",
        "            boxes.append(box)\n",
        "    return boxes\n",
        "\n",
        "\n",
        "def correct_yolo_boxes(boxes, image_h, image_w, net_h, net_w):\n",
        "    new_w, new_h = net_w, net_h\n",
        "    for i in range(len(boxes)):\n",
        "        x_offset, x_scale = (net_w - new_w)/2./net_w, float(new_w)/net_w\n",
        "        y_offset, y_scale = (net_h - new_h)/2./net_h, float(new_h)/net_h\n",
        "        boxes[i].xmin = int((boxes[i].xmin - x_offset) / x_scale * image_w)\n",
        "        boxes[i].xmax = int((boxes[i].xmax - x_offset) / x_scale * image_w)\n",
        "        boxes[i].ymin = int((boxes[i].ymin - y_offset) / y_scale * image_h)\n",
        "        boxes[i].ymax = int((boxes[i].ymax - y_offset) / y_scale * image_h)"
      ]
    },
    {
      "cell_type": "code",
      "execution_count": null,
      "metadata": {
        "id": "qmJb1cByeFWA"
      },
      "outputs": [],
      "source": [
        "def _interval_overlap(interval_a, interval_b):\n",
        "    x1, x2 = interval_a\n",
        "    x3, x4 = interval_b\n",
        "    if x3 < x1:\n",
        "        if x4 < x1:\n",
        "            return 0\n",
        "        else:\n",
        "            return min(x2,x4) - x1\n",
        "    else:\n",
        "        if x2 < x3:\n",
        "            return 0\n",
        "        else:\n",
        "            return min(x2,x4) - x3\n",
        "\n",
        "#intersection over union        \n",
        "def bbox_iou(box1, box2):\n",
        "    intersect_w = _interval_overlap([box1.xmin, box1.xmax], [box2.xmin, box2.xmax])\n",
        "    intersect_h = _interval_overlap([box1.ymin, box1.ymax], [box2.ymin, box2.ymax])\n",
        "    intersect = intersect_w * intersect_h\n",
        "    \n",
        "    \n",
        "    w1, h1 = box1.xmax-box1.xmin, box1.ymax-box1.ymin  \n",
        "    w2, h2 = box2.xmax-box2.xmin, box2.ymax-box2.ymin\n",
        "    \n",
        "    #Union(A,B) = A + B - Inter(A,B)\n",
        "    union = w1*h1 + w2*h2 - intersect\n",
        "    return float(intersect) / union"
      ]
    },
    {
      "cell_type": "code",
      "execution_count": null,
      "metadata": {
        "id": "9pIo8HHceFWB"
      },
      "outputs": [],
      "source": [
        "def do_nms(boxes, nms_thresh):    #boxes from correct_yolo_boxes and  decode_netout\n",
        "    if len(boxes) > 0:\n",
        "        nb_class = len(boxes[0].classes)\n",
        "    else:\n",
        "        return\n",
        "    for c in range(nb_class):\n",
        "        sorted_indices = np.argsort([-box.classes[c] for box in boxes])\n",
        "        for i in range(len(sorted_indices)):\n",
        "            index_i = sorted_indices[i]\n",
        "            if boxes[index_i].classes[c] == 0: continue\n",
        "            for j in range(i+1, len(sorted_indices)):\n",
        "                index_j = sorted_indices[j]\n",
        "                if bbox_iou(boxes[index_i], boxes[index_j]) >= nms_thresh:\n",
        "                    boxes[index_j].classes[c] = 0"
      ]
    },
    {
      "cell_type": "code",
      "execution_count": null,
      "metadata": {
        "id": "sOsLo6H5eFWC"
      },
      "outputs": [],
      "source": [
        "# load and prepare an image\n",
        "def load_image_pixels(filename, shape):\n",
        "    # load the image to get its shape\n",
        "    image = load_img(filename) #load_img() Keras function to load the image .\n",
        "    width, height = image.size\n",
        "    # load the image with the required size\n",
        "    image = load_img(filename, target_size=shape) # target_size argument to resize the image after loading\n",
        "    # convert to numpy array\n",
        "    image = img_to_array(image)\n",
        "    # scale pixel values to [0, 1]\n",
        "    image = image.astype('float32')\n",
        "    image /= 255.0  #rescale the pixel values from 0-255 to 0-1 32-bit floating point values.\n",
        "    # add a dimension so that we have one sample\n",
        "    image = expand_dims(image, 0)\n",
        "    return image, width, height"
      ]
    },
    {
      "cell_type": "code",
      "execution_count": null,
      "metadata": {
        "id": "9dfIMsSBtugq"
      },
      "outputs": [],
      "source": [
        "from numpy import expand_dims\n",
        "from keras.models import load_model\n",
        "from keras.preprocessing.image import load_img\n",
        "from keras.preprocessing.image import img_to_array\n",
        "import os"
      ]
    },
    {
      "cell_type": "code",
      "execution_count": null,
      "metadata": {
        "id": "kl60m-kKeFWD"
      },
      "outputs": [],
      "source": [
        "# get all of the results above a threshold\n",
        "def get_boxes(boxes, labels, thresh):\n",
        "    v_boxes, v_labels, v_scores = list(), list(), list()\n",
        "    # enumerate all boxes\n",
        "    for box in boxes:\n",
        "        # enumerate all possible labels\n",
        "        for i in range(len(labels)):\n",
        "            # check if the threshold for this label is high enough\n",
        "            if box.classes[i] > thresh:\n",
        "                v_boxes.append(box)\n",
        "                v_labels.append(labels[i])\n",
        "                v_scores.append(box.classes[i]*100)\n",
        "    \n",
        "    return v_boxes, v_labels, v_scores"
      ]
    },
    {
      "cell_type": "code",
      "execution_count": null,
      "metadata": {
        "id": "gO19RlDreFWE"
      },
      "outputs": [],
      "source": [
        "# draw all results\n",
        "def draw_boxes(filename, v_boxes, v_labels, v_scores):\n",
        "    #load the image\n",
        "    img = cv2.imread(filename)\n",
        "    for i in range(len(v_boxes)):\n",
        "        # retrieving the coordinates from each bounding box\n",
        "        box = v_boxes[i]\n",
        "        # get coordinates\n",
        "        y1, x1, y2, x2 = box.ymin, box.xmin, box.ymax, box.xmax\n",
        "        start_point = (x1, y1) \n",
        "        # Ending coordinate\n",
        "        # represents the bottom right corner of rectangle \n",
        "        end_point = (x2, y2) \n",
        "        # Red color in BGR \n",
        "        color = (0, 0, 255) \n",
        "        # Line thickness of 2 px \n",
        "        thickness = 2\n",
        "        # font \n",
        "        font = cv2.FONT_HERSHEY_PLAIN \n",
        "        # fontScale \n",
        "        fontScale = 1.5\n",
        "        #create the shape\n",
        "        img = cv2.rectangle(img, start_point, end_point, color, thickness) \n",
        "        # draw text and score in top left corner\n",
        "        label = \"%s (%.3f)\" % (v_labels[i], v_scores[i])\n",
        "        img = cv2.putText(img, label, (x1,y1), font,  \n",
        "                   fontScale, color, thickness, cv2.LINE_AA)\n",
        "    # show the plot\n",
        "    output = \"outputs/\"+filename.rsplit(\"/\")[1].rsplit(\".\")[0]+'_yolov3.jpg'\n",
        "    #save the image\n",
        "    cv2.imwrite(output,img)\n",
        "    cv2.imshow(\"yolov3\",img)\n",
        "    cv2.waitKey(0)\n",
        "    cv2.destroyAllWindows()"
      ]
    },
    {
      "cell_type": "code",
      "execution_count": null,
      "metadata": {
        "id": "Yyjg5NXPA-Bj"
      },
      "outputs": [],
      "source": [
        "def face_crop(filename, v_boxes, v_labels, v_scores):\n",
        "    img = cv2.imread(filename)\n",
        "    rows, cols = img.shape[0], img.shape[1]\n",
        "    shape_x=48.0\n",
        "    shape_y=48.0\n",
        "    faces=[]\n",
        "    for i in range(len(v_boxes)):\n",
        "        if (not v_boxes):\n",
        "            x1,y1 = 0,0\n",
        "            x2,y2 = 0,0\n",
        "        else:\n",
        "            box = v_boxes[i]\n",
        "            y1, x1, y2, x2 = box.ymin, box.xmin, box.ymax, box.xmax\n",
        "            cropped_image = img[y1:y2, x1:x2]\n",
        "            if cropped_image.shape[0]==0 or cropped_image.shape[1]==0:\n",
        "              print(cropped_image.shape,v_boxes[i],filename)\n",
        "              continue\n",
        "            new_extracted_face = zoom(cropped_image, (shape_x / cropped_image.shape[0],shape_y / cropped_image.shape[1],1),order=3, mode='wrap')\n",
        "            #cast type float\n",
        "            new_extracted_face = new_extracted_face.astype(np.float32)\n",
        "            #scale\n",
        "            new_extracted_face /= float(new_extracted_face.max())\n",
        "            faces.append(new_extracted_face)\n",
        "    return faces\n"
      ]
    },
    {
      "cell_type": "markdown",
      "source": [
        "## Test YoloV3"
      ],
      "metadata": {
        "id": "mcJ3EvDqwLdR"
      }
    },
    {
      "cell_type": "code",
      "execution_count": null,
      "metadata": {
        "id": "G0UBZAvceFWG"
      },
      "outputs": [],
      "source": [
        "# define the anchors\n",
        "anchors = [[116,90, 156,198, 373,326], [30,61, 62,45, 59,119], [10,13, 16,30, 33,23]]  \n",
        "\n",
        "# define the probability threshold for detected objects\n",
        "class_threshold = 0.6\n",
        "\n",
        "labels = [\"face\"]\n"
      ]
    },
    {
      "cell_type": "code",
      "source": [
        "def get_label(argument):\n",
        "    labels = {0:'Neutral', 1:'Happy', 2:'Sad', 3:'Surprise', 4:'Fear' , 5:'Disgust', 6:'Anger', 7:'Contempt'}\n",
        "    return(labels.get(argument, \"Invalid emotion\"))"
      ],
      "metadata": {
        "id": "uv2O_1mAkCbM"
      },
      "execution_count": null,
      "outputs": []
    },
    {
      "cell_type": "code",
      "execution_count": null,
      "metadata": {
        "id": "0aFvwND0eFWI"
      },
      "outputs": [],
      "source": [
        "from google.colab.patches import cv2_imshow\n",
        "def find_face(photo_filename):\n",
        "  boxes = list()\n",
        "  image, image_w, image_h = load_image_pixels(photo_filename, (input_w, input_h))\n",
        "  yhat = model.predict(image)\n",
        "  for i in range(len(yhat)):\n",
        "      # decode the output of the network\n",
        "      boxes += decode_netout(yhat[i][0], anchors[i], class_threshold, input_h, input_w)\n",
        "      \n",
        "  # correct the sizes of the bounding boxes for the shape of the image\n",
        "  correct_yolo_boxes(boxes, image_h, image_w, input_h, input_w)\n",
        "\n",
        "  # suppress non-maximal boxes\n",
        "  do_nms(boxes, 0.5)  #Discard all boxes with pc less or equal to 0.5\n",
        "\n",
        "  # get the details of the detected objects\n",
        "  v_boxes, v_labels, v_scores = get_boxes(boxes, labels, class_threshold)\n",
        "\n",
        "  faces = face_crop(photo_filename, v_boxes, v_labels, v_scores)\n",
        "  return faces"
      ]
    },
    {
      "cell_type": "markdown",
      "source": [
        "## Feature Extraction"
      ],
      "metadata": {
        "id": "n6FMlNwD3nl8"
      }
    },
    {
      "cell_type": "code",
      "source": [
        "shape_x = 48\n",
        "shape_y = 48\n",
        "window_size = 24\n",
        "window_step = 6"
      ],
      "metadata": {
        "id": "O8c2FmwMnmy9"
      },
      "execution_count": null,
      "outputs": []
    },
    {
      "cell_type": "code",
      "source": [
        "def sliding_hog_windows(image):\n",
        "    hog_windows = []\n",
        "    for y in range(0, shape_x, window_step):\n",
        "        for x in range(0, shape_y, window_step):\n",
        "            window = image[y:y+window_size, x:x+window_size]\n",
        "            hog_windows.extend(hog(window, orientations=8, pixels_per_cell=(8, 8),\n",
        "                                            cells_per_block=(1, 1), visualize=False))\n",
        "    return hog_windows"
      ],
      "metadata": {
        "id": "gQdanE1YmY7B"
      },
      "execution_count": null,
      "outputs": []
    },
    {
      "cell_type": "markdown",
      "source": [
        "## Import Dataset and apply"
      ],
      "metadata": {
        "id": "zPO-WO9i4Axe"
      }
    },
    {
      "cell_type": "code",
      "source": [
        "input_w, input_h = 224, 224\n",
        "directory = '/content/val_set/images/'\n",
        "# dir2 = '/content/trainset/images/'\n",
        "annotations = '/content/val_set/annotations/'\n",
        "# annot2 = '/content/trainset/annotations/'\n",
        "suffix = '_exp.npy'\n",
        "imgs = []\n",
        "target= []\n",
        "val_imgs = []\n",
        "val_target = []\n",
        "val_hog_slide_images = []\n",
        "val_hog_slide_features = []\n",
        "hog_slide_images = []\n",
        "hog_slide_features = []\n",
        "\n",
        "direct = '/content/train/'\n",
        "for dir in os.listdir(direct):\n",
        "  for filename in os.listdir(direct+dir):\n",
        "    photo_filename = direct+dir+\"/\"+filename\n",
        "    exp = int(dir)\n",
        "    img = cv2.imread(photo_filename)\n",
        "    img = zoom(img, (48 / img.shape[0],48 / img.shape[1],1),order=3, mode='wrap')\n",
        "    face = asarray(img)\n",
        "    face_1 = cv2.cvtColor(face, cv2.COLOR_BGR2GRAY)\n",
        "    image1 = face_1.reshape((shape_x, shape_y,1))\n",
        "    features = sliding_hog_windows(image1)\n",
        "    f, hog_image = hog(image1, orientations=8, pixels_per_cell=(16, 16),cells_per_block=(1, 1), visualize=True)\n",
        "    hog_slide_features.append(features)\n",
        "    hog_slide_images.append(hog_image)\n",
        "    imgs.append(image1)\n",
        "    target.append(exp)\n",
        "for filename in os.listdir(directory):\n",
        "  photo_filename = directory+filename\n",
        "  name = filename.split('.')[0]\n",
        "  with open(annotations+name+suffix,'rb') as f:\n",
        "    exp = np.load(f)\n",
        "  img = cv2.imread(photo_filename)\n",
        "  img = zoom(img, (48 / img.shape[0],48 / img.shape[1],1),order=3, mode='wrap')\n",
        "  face = asarray(img)\n",
        "  face_1 = cv2.cvtColor(face, cv2.COLOR_BGR2GRAY)\n",
        "  image1 = face_1.reshape((shape_x, shape_y,1))\n",
        "  features = sliding_hog_windows(image1)\n",
        "  f, hog_image = hog(image1, orientations=8, pixels_per_cell=(16, 16),cells_per_block=(1, 1), visualize=True)\n",
        "  val_hog_slide_features.append(features)\n",
        "  val_hog_slide_images.append(hog_image)\n",
        "  val_imgs.append(image1)\n",
        "  val_target.append(exp)"
      ],
      "metadata": {
        "id": "j4ICgSQQ1zZ_"
      },
      "execution_count": null,
      "outputs": []
    },
    {
      "cell_type": "code",
      "source": [
        "X = np.array(imgs)\n",
        "X = np.vstack(X)\n",
        "y = np.array(target)\n",
        "X = np.reshape(X, (len(imgs),48,48,1))\n",
        "y = np.reshape(y, (y.shape[0],1))\n",
        "train_data = X.astype('float32')\n",
        "train_data /= 255\n",
        "train_labels_one_hot = to_categorical(y)"
      ],
      "metadata": {
        "id": "wrgiA3_yyvfo"
      },
      "execution_count": null,
      "outputs": []
    },
    {
      "cell_type": "code",
      "source": [
        "X_val = np.array(val_imgs)\n",
        "X_val = np.vstack(X_val)\n",
        "y_val = np.array(val_target)\n",
        "X_val = np.reshape(X_val, (len(val_imgs),48,48,1))\n",
        "y_val = np.reshape(y_val, (y_val.shape[0],1))\n",
        "val_data = X_val.astype('float32')\n",
        "val_data /= 255\n",
        "val_labels_one_hot = to_categorical(y_val)"
      ],
      "metadata": {
        "id": "Csg9MPrnZvOs"
      },
      "execution_count": null,
      "outputs": []
    },
    {
      "cell_type": "code",
      "source": [
        "plt.figure(figsize=[10,5])\n",
        "\n",
        "# Display the first image in training data\n",
        "plt.subplot(121)\n",
        "plt.imshow(np.reshape(X[50],(48,48)))\n",
        "plt.title(\"Ground Truth : {}\".format(get_label(int(y[50]))))\n",
        "\n",
        "# Display the first image in testing data\n",
        "plt.subplot(122)\n",
        "plt.imshow(np.reshape(X[6732],(48,48)))\n",
        "plt.title(\"Ground Truth : {}\".format(get_label(int(y[6732]))))"
      ],
      "metadata": {
        "colab": {
          "base_uri": "https://localhost:8080/",
          "height": 335
        },
        "id": "bnJs5hcEjIuH",
        "outputId": "c02dc22c-331e-4bf0-a027-9996d64407c7"
      },
      "execution_count": null,
      "outputs": [
        {
          "output_type": "execute_result",
          "data": {
            "text/plain": [
              "Text(0.5, 1.0, 'Ground Truth : Fear')"
            ]
          },
          "metadata": {},
          "execution_count": 35
        },
        {
          "output_type": "display_data",
          "data": {
            "text/plain": [
              "<Figure size 720x360 with 2 Axes>"
            ],
            "image/png": "[encoded data removed]"
          },
          "metadata": {
            "needs_background": "light"
          }
        }
      ]
    },
    {
      "cell_type": "markdown",
      "source": [
        "## Data Preparation"
      ],
      "metadata": {
        "id": "EwIkYvQy3vOY"
      }
    },
    {
      "cell_type": "code",
      "source": [
        "OUTPUT_FOLDER_NAME='/content/drive/MyDrive/FYP/outputs/'\n",
        "np.save(OUTPUT_FOLDER_NAME + 'train_labels_one_hot.npy', train_labels_one_hot)\n",
        "np.save(OUTPUT_FOLDER_NAME + 'train_labels.npy', y)\n",
        "np.save(OUTPUT_FOLDER_NAME + 'val_labels_one_hot.npy', val_labels_one_hot)\n",
        "np.save(OUTPUT_FOLDER_NAME + 'val_labels.npy', y_val)\n",
        "\n",
        "np.save(OUTPUT_FOLDER_NAME + 'train_hog_slide_images.npy', np.array(hog_slide_images))\n",
        "np.save(OUTPUT_FOLDER_NAME + 'train_hog_slide_features.npy', np.array(hog_slide_features))\n",
        "np.save(OUTPUT_FOLDER_NAME + 'val_hog_slide_images.npy', np.array(val_hog_slide_images))\n",
        "np.save(OUTPUT_FOLDER_NAME + 'val_hog_slide_features.npy', np.array(val_hog_slide_features))\n",
        "\n",
        "np.save(OUTPUT_FOLDER_NAME + 'train_images.npy', X)\n",
        "np.save(OUTPUT_FOLDER_NAME + 'val_images.npy', X_val)"
      ],
      "metadata": {
        "id": "3amlDZGMnA9_"
      },
      "execution_count": null,
      "outputs": []
    },
    {
      "cell_type": "code",
      "source": [
        "X_hog_slid_img = np.load(OUTPUT_FOLDER_NAME + \"train_hog_slide_images.npy\").reshape(-1, 48, 48, 1)\n",
        "X_imgs = np.load(OUTPUT_FOLDER_NAME + \"train_images.npy\")\n",
        "X_new = np.concatenate((X_imgs,X_hog_slid_img),axis = 1)"
      ],
      "metadata": {
        "id": "9eGnpnAKorR0"
      },
      "execution_count": null,
      "outputs": []
    },
    {
      "cell_type": "code",
      "source": [
        "X_hog_slid_img_val = np.load(OUTPUT_FOLDER_NAME + \"val_hog_slide_images.npy\").reshape(-1, 48, 48, 1)\n",
        "X_imgs_val = np.load(OUTPUT_FOLDER_NAME + \"val_images.npy\")\n",
        "X_new_val = np.concatenate((X_imgs_val,X_hog_slid_img_val),axis = 1)"
      ],
      "metadata": {
        "id": "WjpgieLCbgUo"
      },
      "execution_count": null,
      "outputs": []
    },
    {
      "cell_type": "code",
      "source": [
        "np.save(OUTPUT_FOLDER_NAME + 'train_image_features.npy', X_new)\n",
        "np.save(OUTPUT_FOLDER_NAME + 'val_image_features.npy', X_new_val)"
      ],
      "metadata": {
        "id": "dEIrZeAT3XDo"
      },
      "execution_count": null,
      "outputs": []
    }
  ],
  "metadata": {
    "kernelspec": {
      "display_name": "Python 3 (ipykernel)",
      "language": "python",
      "name": "python3"
    },
    "language_info": {
      "codemirror_mode": {
        "name": "ipython",
        "version": 3
      },
      "file_extension": ".py",
      "mimetype": "text/x-python",
      "name": "python",
      "nbconvert_exporter": "python",
      "pygments_lexer": "ipython3",
      "version": "3.8.0"
    },
    "colab": {
      "name": "improved-face-detection-grey.ipynb",
      "provenance": [],
      "collapsed_sections": [
        "hjjBvMYEvjN9",
        "ydhF5ayLvwiQ",
        "mcJ3EvDqwLdR",
        "n6FMlNwD3nl8"
      ]
    },
    "accelerator": "GPU"
  },
  "nbformat": 4,
  "nbformat_minor": 0
}